{
 "cells": [
  {
   "cell_type": "markdown",
   "metadata": {},
   "source": [
    "# MKTYP ~~ Kim's Notebook "
   ]
  },
  {
   "cell_type": "code",
   "execution_count": 5,
   "metadata": {},
   "outputs": [
    {
     "name": "stdout",
     "output_type": "stream",
     "text": [
      "MPH to FPS\n",
      "enter miles per hour: 20\n",
      "Your speed in FPS is 29.333333333333332\n"
     ]
    }
   ],
   "source": [
    "print (\"MPH to FPS\")\n",
    "mph = float(input(\"enter miles per hour: \"))\n",
    "fps = mph*5280/3600\n",
    "print(\"Your speed in FPS is \"+str(fps)); "
   ]
  },
  {
   "cell_type": "code",
   "execution_count": 7,
   "metadata": {},
   "outputs": [
    {
     "name": "stdout",
     "output_type": "stream",
     "text": [
      "what is the vel20\n",
      "what is the temp30\n",
      "the windchill is17.361783756466327\n"
     ]
    }
   ],
   "source": [
    "import math\n",
    "vel=float(input(\"what is the vel\"))\n",
    "temp=float(input(\"what is the temp\"))\n",
    "wc = 35.74 + 0.6215 * temp - 35.75 * math.pow(vel,0.16) + 0.4275 * temp * math.pow(vel,0.16)\n",
    "print (\"the windchill is\" + str(wc));"
   ]
  },
  {
   "cell_type": "code",
   "execution_count": 9,
   "metadata": {},
   "outputs": [
    {
     "name": "stdout",
     "output_type": "stream",
     "text": [
      "how old are you, in years?45\n",
      "If you are 45years old, then your age in seconds is 1419120000\n"
     ]
    }
   ],
   "source": [
    "def yearsToSeconds(s):\n",
    "    return s*31536000\n",
    "\n",
    "\n",
    "years = int(input(\"how old are you, in years?\"))\n",
    "seconds = yearsToSeconds(years)\n",
    "print(\"If you are \" + str(years) + \"years old, then your age in seconds is \" + str(seconds))"
   ]
  },
  {
   "cell_type": "code",
   "execution_count": null,
   "metadata": {},
   "outputs": [],
   "source": []
  }
 ],
 "metadata": {
  "kernelspec": {
   "display_name": "Python 3",
   "language": "python",
   "name": "python3"
  },
  "language_info": {
   "codemirror_mode": {
    "name": "ipython",
    "version": 3
   },
   "file_extension": ".py",
   "mimetype": "text/x-python",
   "name": "python",
   "nbconvert_exporter": "python",
   "pygments_lexer": "ipython3",
   "version": "3.7.0"
  }
 },
 "nbformat": 4,
 "nbformat_minor": 2
}
